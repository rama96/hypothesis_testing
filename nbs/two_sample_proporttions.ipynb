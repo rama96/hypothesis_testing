{
 "cells": [
  {
   "cell_type": "code",
   "execution_count": 2,
   "metadata": {},
   "outputs": [],
   "source": [
    "import pandas as pd\n",
    "import math"
   ]
  },
  {
   "attachments": {},
   "cell_type": "markdown",
   "metadata": {},
   "source": [
    "Two Models are being tested in production envvironment . You have to test out the results . \n",
    "\n",
    "Model 1 has CTR of 0.011% wheareas Model 2 has a CTR of 0.023% . Both model was tested out on a user base of 1000 Users each . Do we conclude that the Model 1 has higher performance when compared to Model 2 ? \n",
    "\n",
    "n1 = 1000 , n2 = 2000\n"
   ]
  },
  {
   "attachments": {},
   "cell_type": "markdown",
   "metadata": {},
   "source": [
    "Above is Bernoulli Population since it's proportions . It's a large sample ( np <=10 ) . "
   ]
  },
  {
   "cell_type": "code",
   "execution_count": 62,
   "metadata": {},
   "outputs": [
    {
     "data": {
      "text/plain": [
       "1.493469973443855"
      ]
     },
     "execution_count": 62,
     "metadata": {},
     "output_type": "execute_result"
    }
   ],
   "source": [
    "n1 = 1000\n",
    "n2 = 1000\n",
    "x1 = 14\n",
    "x2 = 23\n",
    "\n",
    "p1 = x1/n1\n",
    "p2 = x2/n2\n",
    "\n",
    "p = (x1 + x2)/(n1+n2)\n",
    "se_pooled = math.sqrt(p * (1-p) * ( (1/n1) + (1/n2) ))\n",
    "\n",
    "tse = (p2 - p1)/se_pooled\n",
    "tse"
   ]
  },
  {
   "cell_type": "code",
   "execution_count": 63,
   "metadata": {},
   "outputs": [
    {
     "data": {
      "text/plain": [
       "array([ 1., -1.])"
      ]
     },
     "execution_count": 63,
     "metadata": {},
     "output_type": "execute_result"
    }
   ],
   "source": [
    "st.zscore([0.5,0.3])"
   ]
  },
  {
   "cell_type": "code",
   "execution_count": 64,
   "metadata": {},
   "outputs": [
    {
     "data": {
      "text/plain": [
       "0.9323428957959122"
      ]
     },
     "execution_count": 64,
     "metadata": {},
     "output_type": "execute_result"
    }
   ],
   "source": [
    "import scipy.stats as st\n",
    "confidence_value = st.norm.cdf(tse)\n",
    "confidence_value\n"
   ]
  },
  {
   "cell_type": "code",
   "execution_count": 65,
   "metadata": {},
   "outputs": [],
   "source": [
    "significance_value = 0.05"
   ]
  },
  {
   "cell_type": "code",
   "execution_count": 66,
   "metadata": {},
   "outputs": [
    {
     "data": {
      "text/plain": [
       "1.959963984540054"
      ]
     },
     "execution_count": 66,
     "metadata": {},
     "output_type": "execute_result"
    }
   ],
   "source": [
    "\n",
    "import scipy.stats as st\n",
    "confidence_value_two_tailed = st.norm.ppf(0.975)\n",
    "confidence_value_two_tailed\n"
   ]
  },
  {
   "cell_type": "code",
   "execution_count": 67,
   "metadata": {},
   "outputs": [
    {
     "name": "stdout",
     "output_type": "stream",
     "text": [
      "Two Tailed test\n",
      "  - NULL Hypothesis : Model1 >= Model2 \n",
      "  - Alternate Hypothesis : Model2 > Model2 \n",
      " Reject Null Hypothesis \n"
     ]
    }
   ],
   "source": [
    "print(\"Two Tailed test\")\n",
    "print(\"  - NULL Hypothesis : Model1 >= Model2 \")\n",
    "print(\"  - Alternate Hypothesis : Model2 > Model2 \")\n",
    "if (tse > confidence_value) or (tse < confidence_value):\n",
    "    print(\" Reject Null Hypothesis \")\n",
    "else :\n",
    "    print(\" Accept NULL Hypothesis \")\n"
   ]
  },
  {
   "cell_type": "code",
   "execution_count": 68,
   "metadata": {},
   "outputs": [],
   "source": [
    "import scipy.stats as st\n",
    "z_value_two_tailed = st.norm.ppf(0.95)\n",
    "z_value_one_tailed = st.norm.ppf(0.975)\n",
    "\n"
   ]
  },
  {
   "cell_type": "code",
   "execution_count": 69,
   "metadata": {},
   "outputs": [
    {
     "name": "stdout",
     "output_type": "stream",
     "text": [
      "One Tailed test\n",
      "  - NULL Hypothesis : Model1 >= Model2 \n",
      "  - Alternate Hypothesis : Model1 < Model2 \n",
      " Reject Null Hypothesis\n"
     ]
    }
   ],
   "source": [
    "print(\"One Tailed test\")\n",
    "print(\"  - NULL Hypothesis : Model1 >= Model2 \")\n",
    "print(\"  - Alternate Hypothesis : Model1 < Model2 \")\n",
    "\n",
    "if (tse > confidence_value) or (tse < confidence_value):\n",
    "    print(\" Reject Null Hypothesis\")\n",
    "else :\n",
    "    print(\" Accept NULL Hypothesis\")\n"
   ]
  },
  {
   "cell_type": "code",
   "execution_count": 70,
   "metadata": {},
   "outputs": [
    {
     "name": "stdout",
     "output_type": "stream",
     "text": [
      "0.009 +- 5.423610882060032e-05\n",
      "[ -0.0028112022166635314  ,  0.020811202216663528 ]\n",
      "[ -0.0009122733672554655  ,  0.018912273367255462 ]\n"
     ]
    }
   ],
   "source": [
    "# Confidence interval Two tailed\n",
    "\n",
    "d = p2 - p1\n",
    "print(d , \"+-\" , d * se_pooled)\n",
    "print(\"[\",d-(z_value_one_tailed * se_pooled),\" , \",d+(z_value_one_tailed * se_pooled) ,\"]\")\n",
    "print(\"[\",d-(z_value_two_tailed * se_pooled),\" , \",d+(z_value_two_tailed * se_pooled) ,\"]\")"
   ]
  },
  {
   "cell_type": "code",
   "execution_count": null,
   "metadata": {},
   "outputs": [],
   "source": []
  }
 ],
 "metadata": {
  "kernelspec": {
   "display_name": "env",
   "language": "python",
   "name": "python3"
  },
  "language_info": {
   "codemirror_mode": {
    "name": "ipython",
    "version": 3
   },
   "file_extension": ".py",
   "mimetype": "text/x-python",
   "name": "python",
   "nbconvert_exporter": "python",
   "pygments_lexer": "ipython3",
   "version": "3.9.16"
  },
  "orig_nbformat": 4,
  "vscode": {
   "interpreter": {
    "hash": "4770cba6ba016878c3f26d620c7e0cdbfac1d9a4cce187b13423df39d81097ff"
   }
  }
 },
 "nbformat": 4,
 "nbformat_minor": 2
}
